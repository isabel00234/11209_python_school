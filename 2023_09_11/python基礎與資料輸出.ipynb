print ("Hello Python") 
30     
30.0   
True   