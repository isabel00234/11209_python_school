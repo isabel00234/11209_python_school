{
 "cells": [
  {
   "cell_type": "code",
   "execution_count": 1,
   "metadata": {},
   "outputs": [
    {
     "data": {
      "text/plain": [
       "True"
      ]
     },
     "execution_count": 1,
     "metadata": {},
     "output_type": "execute_result"
    }
   ],
   "source": [
    "#python 純值\n",
    "'Hello! Python!'\n",
    "30\n",
    "30.0\n",
    "True"
   ]
  },
  {
   "cell_type": "code",
   "execution_count": 2,
   "metadata": {},
   "outputs": [
    {
     "name": "stdout",
     "output_type": "stream",
     "text": [
      "Hello! Python!\n",
      "30\n",
      "30.0\n",
      "True\n"
     ]
    }
   ],
   "source": [
    "#print()\n",
    "print('Hello! Python!')\n",
    "print(30)\n",
    "print(30.0)\n",
    "print(True)"
   ]
  },
  {
   "cell_type": "code",
   "execution_count": 3,
   "metadata": {},
   "outputs": [
    {
     "name": "stdout",
     "output_type": "stream",
     "text": [
      "13\n",
      "80\n",
      "28\n",
      "3.0\n",
      "3\n",
      "1\n",
      "980188864829534682605802224588165892518744500843860189980001\n"
     ]
    }
   ],
   "source": [
    "#整數運算\n",
    "print(5 + 8)\n",
    "print(90 - 10)\n",
    "print(4 * 7)\n",
    "print(6 / 2)\n",
    "print(7 // 2)\n",
    "print(7 % 3)\n",
    "print(999 ** 20)"
   ]
  },
  {
   "cell_type": "code",
   "execution_count": 4,
   "metadata": {},
   "outputs": [
    {
     "name": "stdout",
     "output_type": "stream",
     "text": [
      "13.0\n",
      "23.0\n",
      "21.0\n",
      "10\n"
     ]
    }
   ],
   "source": [
    "#浮點數和整數運算\n",
    "print(5.0 + 8)\n",
    "print(5.0 + 8 + 10)\n",
    "print(5.0 + 8 * 2)\n",
    "print(2 * (1 + 2) ** 2 - 2 ** 2 * 2)"
   ]
  },
  {
   "cell_type": "code",
   "execution_count": 5,
   "metadata": {},
   "outputs": [
    {
     "data": {
      "text/plain": [
       "'abcefg'"
      ]
     },
     "execution_count": 5,
     "metadata": {},
     "output_type": "execute_result"
    }
   ],
   "source": [
    "#字串的加法運算\n",
    "\"abc\" + \"efg\""
   ]
  },
  {
   "cell_type": "code",
   "execution_count": 6,
   "metadata": {},
   "outputs": [],
   "source": [
    "#字串+數值 -> 出錯\n",
    "#\"abc\" + 13"
   ]
  },
  {
   "cell_type": "code",
   "execution_count": 7,
   "metadata": {},
   "outputs": [
    {
     "data": {
      "text/plain": [
       "'abc13'"
      ]
     },
     "execution_count": 7,
     "metadata": {},
     "output_type": "execute_result"
    }
   ],
   "source": [
    "#str() -> 轉為字串\n",
    "\"abc\" + str(13)"
   ]
  },
  {
   "cell_type": "code",
   "execution_count": 9,
   "metadata": {},
   "outputs": [
    {
     "data": {
      "text/plain": [
       "38"
      ]
     },
     "execution_count": 9,
     "metadata": {},
     "output_type": "execute_result"
    }
   ],
   "source": [
    "#int() -> 轉為整數\n",
    "int(\"13\") + int(\"25\")"
   ]
  },
  {
   "cell_type": "code",
   "execution_count": 8,
   "metadata": {},
   "outputs": [
    {
     "data": {
      "text/plain": [
       "35.2"
      ]
     },
     "execution_count": 8,
     "metadata": {},
     "output_type": "execute_result"
    }
   ],
   "source": [
    "#float() -> 轉為浮點數\n",
    "float(\"13.5\") + float(\"21.7\")"
   ]
  },
  {
   "cell_type": "code",
   "execution_count": 10,
   "metadata": {},
   "outputs": [],
   "source": [
    "openedx=100"
   ]
  },
  {
   "cell_type": "code",
   "execution_count": 13,
   "metadata": {},
   "outputs": [
    {
     "ename": "SyntaxError",
     "evalue": "unterminated string literal (detected at line 1) (779053531.py, line 1)",
     "output_type": "error",
     "traceback": [
      "\u001b[1;36m  Cell \u001b[1;32mIn[13], line 1\u001b[1;36m\u001b[0m\n\u001b[1;33m    taiwan, years = '台灣’, 2018\u001b[0m\n\u001b[1;37m                    ^\u001b[0m\n\u001b[1;31mSyntaxError\u001b[0m\u001b[1;31m:\u001b[0m unterminated string literal (detected at line 1)\n"
     ]
    }
   ],
   "source": [
    "taiwan, years = '台灣’, 2018"
   ]
  },
  {
   "cell_type": "code",
   "execution_count": 14,
   "metadata": {},
   "outputs": [
    {
     "ename": "NameError",
     "evalue": "name 'years' is not defined",
     "output_type": "error",
     "traceback": [
      "\u001b[1;31m---------------------------------------------------------------------------\u001b[0m",
      "\u001b[1;31mNameError\u001b[0m                                 Traceback (most recent call last)",
      "\u001b[1;32mc:\\Users\\user\\Documents\\GitHub\\11209_python_school\\2023_09_11\\python基礎與資料輸出.ipynb 儲存格 12\u001b[0m line \u001b[0;36m1\n\u001b[1;32m----> <a href='vscode-notebook-cell:/c%3A/Users/user/Documents/GitHub/11209_python_school/2023_09_11/python%E5%9F%BA%E7%A4%8E%E8%88%87%E8%B3%87%E6%96%99%E8%BC%B8%E5%87%BA.ipynb#X14sZmlsZQ%3D%3D?line=0'>1</a>\u001b[0m \u001b[39mdel\u001b[39;00m years\n",
      "\u001b[1;31mNameError\u001b[0m: name 'years' is not defined"
     ]
    }
   ],
   "source": [
    "del years"
   ]
  },
  {
   "cell_type": "code",
   "execution_count": null,
   "metadata": {},
   "outputs": [],
   "source": [
    "#question: 請問以下哪一個變數命名是錯的?(選擇題)\n",
    "#answer (1)\n",
    "# (1) 5well\n",
    "# (2) pcschool\n",
    "#(3)  巨匠"
   ]
  },
  {
   "cell_type": "code",
   "execution_count": null,
   "metadata": {},
   "outputs": [],
   "source": [
    "#question: 請問以下哪一個變數命名是錯的?(複選題)\n",
    "# answer (1)(2)(4)\n",
    "#(1) 7eleven\n",
    "#(2) pcschool&python\n",
    "#(3) Pcschool python\n",
    "#(4) if"
   ]
  },
  {
   "cell_type": "code",
   "execution_count": null,
   "metadata": {},
   "outputs": [],
   "source": [
    "#question: 若要建立 x 變數內容為 15，請問哪一行是對的? (選擇題)\n",
    "#answer (4)\n",
    "#(1) x equals 15\n",
    "#(2) x is 15\n",
    "#(3) 15 = x\n",
    "#(4) x = 15\n",
    "\n"
   ]
  },
  {
   "cell_type": "code",
   "execution_count": 15,
   "metadata": {},
   "outputs": [
    {
     "name": "stdout",
     "output_type": "stream",
     "text": [
      "3\n",
      "3.12\n",
      "Hello! World!\n",
      "5\n"
     ]
    }
   ],
   "source": [
    "#一個參數\n",
    "print(3)\n",
    "print(3.12)\n",
    "print(\"Hello! World!\")\n",
    "print(3+2)"
   ]
  },
  {
   "cell_type": "code",
   "execution_count": 16,
   "metadata": {},
   "outputs": [
    {
     "name": "stdout",
     "output_type": "stream",
     "text": [
      "a= 100\n",
      "b= 50\n",
      "a+b= 150\n"
     ]
    }
   ],
   "source": [
    "#多個參數\n",
    "a = 100\n",
    "print('a=',a)\n",
    "b = 50\n",
    "print('b=', b)\n",
    "print(\"a+b=\", a+b)"
   ]
  },
  {
   "cell_type": "code",
   "execution_count": 18,
   "metadata": {},
   "outputs": [],
   "source": [
    "#question:關於輸出語法哪一個是對的?(選擇題)\n",
    "#answer (2)\n",
    "#(2) print(3 + 4)\n",
    "#(3) print 3 + 4\n",
    "#(4) put(3 + 4)\n",
    "\n"
   ]
  },
  {
   "cell_type": "code",
   "execution_count": null,
   "metadata": {},
   "outputs": [],
   "source": [
    "#question:請問 Python 檔案副檔名哪一個是對的?(選擇題)\n",
    "#answer(3)\n",
    "#(1) .script\n",
    "#(2) .pyscript\n",
    "#(3) .py\n",
    "#(4) .python"
   ]
  },
  {
   "cell_type": "code",
   "execution_count": null,
   "metadata": {},
   "outputs": [],
   "source": [
    "#question: 請問執行這一行後的說明哪一個是對的?(選擇題)\n",
    "#answer(1)\n",
    "#print(x1)\n",
    "#(1) 產生錯誤\n",
    "#(2) 輸出空白\n",
    "#(3) 輸出 0"
   ]
  },
  {
   "cell_type": "code",
   "execution_count": null,
   "metadata": {},
   "outputs": [],
   "source": [
    "#question: 請問執行後的說明哪一個是對的?(選擇題)\n",
    "#answer 'test'\n",
    "#x=50 \n",
    "#x='test' \n",
    "#print(x)#"
   ]
  }
 ],
 "metadata": {
  "kernelspec": {
   "display_name": ".venv",
   "language": "python",
   "name": "python3"
  },
  "language_info": {
   "codemirror_mode": {
    "name": "ipython",
    "version": 3
   },
   "file_extension": ".py",
   "mimetype": "text/x-python",
   "name": "python",
   "nbconvert_exporter": "python",
   "pygments_lexer": "ipython3",
   "version": "3.10.8"
  },
  "orig_nbformat": 4
 },
 "nbformat": 4,
 "nbformat_minor": 2
}
