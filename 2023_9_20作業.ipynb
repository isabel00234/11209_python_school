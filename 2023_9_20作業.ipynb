{
 "cells": [
  {
   "cell_type": "code",
   "execution_count": 8,
   "metadata": {},
   "outputs": [
    {
     "name": "stdout",
     "output_type": "stream",
     "text": [
      "請輸入體重(公斤):80 公斤\n",
      "請輸入身高(公分):160 公分\n",
      "您的BMI是: 31.249999999999993 您的體重 肥胖\n"
     ]
    }
   ],
   "source": [
    "#作業一\n",
    "\n",
    "import pyinputplus as pyip\n",
    "\n",
    "weight = pyip.inputInt(\"請輸入體重(公斤):\",min=0)\n",
    "print(weight,\"公斤\")\n",
    "height = pyip.inputInt(\"請輸入身高(公分):\",min=0)\n",
    "print(height,\"公分\")\n",
    "\n",
    "bmi = weight / (height/100)**2\n",
    "\n",
    "if bmi <18.5 :\n",
    "    message = \"太輕\"\n",
    "elif bmi <25:\n",
    "    message = \"正常\"\n",
    "elif bmi <30:\n",
    "    message = \"過重\"\n",
    "else :\n",
    "    message = \"肥胖\"\n",
    "\n",
    "print(\"您的BMI是:\",bmi,\"您的體重\",message)\n",
    "\n",
    "\n",
    "\n"
   ]
  },
  {
   "cell_type": "code",
   "execution_count": 11,
   "metadata": {},
   "outputs": [
    {
     "name": "stdout",
     "output_type": "stream",
     "text": [
      "請輸入收縮壓:140\n",
      "請輸入舒縮壓:90\n",
      "高血壓二期\n"
     ]
    }
   ],
   "source": [
    "#作業二\n",
    "\n",
    "import pyinputplus as pyip\n",
    "\n",
    "sbp = pyip.inputInt(\"請輸入收縮壓:\")\n",
    "print(sbp)\n",
    "dbp = pyip.inputInt(\"請輸入舒縮壓:\")\n",
    "print(dbp)\n",
    "if   dbp < 80  : \n",
    "    \n",
    "    if sbp <120:\n",
    "            p = \"正常\" \n",
    "    elif sbp <= 129:\n",
    "        p = \"血壓升高\"\n",
    "    else  :\n",
    "        p = \"單純收縮期高血壓\"\n",
    "elif dbp <89 :\n",
    "        if sbp <139 :\n",
    "            p = \"高血壓一期\"  \n",
    "        else :\n",
    "               p = \"高血壓二期\"\n",
    "   \n",
    "else:\n",
    "            p = \"高血壓二期\" \n",
    "print (p)\n",
    "\n",
    "\n"
   ]
  }
 ],
 "metadata": {
  "kernelspec": {
   "display_name": "Python 3",
   "language": "python",
   "name": "python3"
  },
  "language_info": {
   "codemirror_mode": {
    "name": "ipython",
    "version": 3
   },
   "file_extension": ".py",
   "mimetype": "text/x-python",
   "name": "python",
   "nbconvert_exporter": "python",
   "pygments_lexer": "ipython3",
   "version": "3.10.8"
  },
  "orig_nbformat": 4
 },
 "nbformat": 4,
 "nbformat_minor": 2
}
