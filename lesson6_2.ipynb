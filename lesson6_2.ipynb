{
 "cells": [
  {
   "cell_type": "code",
   "execution_count": 10,
   "metadata": {},
   "outputs": [
    {
     "name": "stdout",
     "output_type": "stream",
     "text": [
      "Help on function inputStr in module pyinputplus:\n",
      "\n",
      "inputStr(prompt='', default=None, blank=False, timeout=None, limit=None, strip=None, allowRegexes=None, blockRegexes=None, applyFunc=None, postValidateApplyFunc=None)\n",
      "    Prompts the user to enter any string input. This is similar to Python's ``input()``\n",
      "    and ``raw_input()`` functions, but with PyInputPlus's additional features\n",
      "    such as timeouts, retry limits, stripping, allowlist/blocklist, etc.\n",
      "    \n",
      "    Validation can be performed by the validationFunc argument, which raises\n",
      "    an exception if the input is invalid. The exception message is used to\n",
      "    tell the user why the input is invalid.\n",
      "    \n",
      "    Run ``help(pyinputplus.parameters)`` for an explanation of the common parameters.\n",
      "    \n",
      "    >>> result = inputStr('Enter name> ')\n",
      "    Enter name> Al\n",
      "    >>> result\n",
      "    'Al'\n",
      "\n"
     ]
    }
   ],
   "source": [
    "import pyinputplus as pyip\n",
    "\n",
    "help (pyip.inputStr)\n",
    "\n"
   ]
  },
  {
   "cell_type": "code",
   "execution_count": 3,
   "metadata": {},
   "outputs": [
    {
     "name": "stdout",
     "output_type": "stream",
     "text": [
      "請輸入您的姓名:"
     ]
    },
    {
     "data": {
      "text/plain": [
       "'123'"
      ]
     },
     "execution_count": 3,
     "metadata": {},
     "output_type": "execute_result"
    }
   ],
   "source": [
    "pyip.inputStr(prompt=\"請輸入您的姓名:\")"
   ]
  },
  {
   "cell_type": "code",
   "execution_count": 6,
   "metadata": {},
   "outputs": [
    {
     "name": "stdout",
     "output_type": "stream",
     "text": [
      "請輸入一組數字:'122a' is not a number.\n",
      "請輸入一組數字:"
     ]
    },
    {
     "data": {
      "text/plain": [
       "123"
      ]
     },
     "execution_count": 6,
     "metadata": {},
     "output_type": "execute_result"
    }
   ],
   "source": [
    "pyip.inputNum(prompt=\"請輸入一組數字:\")"
   ]
  },
  {
   "cell_type": "code",
   "execution_count": 12,
   "metadata": {},
   "outputs": [
    {
     "name": "stdout",
     "output_type": "stream",
     "text": [
      "請輸入學生分數(最高分300分):'a' is not an integer.\n",
      "請輸入學生分數(最高分300分):'256a' is not an integer.\n",
      "請輸入學生分數(最高分300分):學生總分是:300分\n"
     ]
    }
   ],
   "source": [
    "#學生總分為300分\n",
    "#有些學生可以加分5%\n",
    "#如果加分超過300分,就以300分為準\n",
    "import pyinputplus as pyip\n",
    "\n",
    "scores = pyip.inputInt(prompt=\"請輸入學生分數(最高分300分):\")   \n",
    "\n",
    "is_add = input(\"請問是否符合加分條件?(y,n)\")\n",
    "\n",
    "if is_add == \"y\":\n",
    "    scores *= 1.05\n",
    "    if scores > 300 :\n",
    "        scores = 300\n",
    "print(f\"學生總分是:{scores}分\")\n",
    "\n"
   ]
  },
  {
   "cell_type": "code",
   "execution_count": null,
   "metadata": {},
   "outputs": [],
   "source": []
  }
 ],
 "metadata": {
  "kernelspec": {
   "display_name": ".venv",
   "language": "python",
   "name": "python3"
  },
  "language_info": {
   "codemirror_mode": {
    "name": "ipython",
    "version": 3
   },
   "file_extension": ".py",
   "mimetype": "text/x-python",
   "name": "python",
   "nbconvert_exporter": "python",
   "pygments_lexer": "ipython3",
   "version": "3.10.8"
  },
  "orig_nbformat": 4
 },
 "nbformat": 4,
 "nbformat_minor": 2
}
