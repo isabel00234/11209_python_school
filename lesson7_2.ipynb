{
 "cells": [
  {
   "cell_type": "code",
   "execution_count": 6,
   "metadata": {},
   "outputs": [
    {
     "name": "stdout",
     "output_type": "stream",
     "text": [
      "請輸入體重(公斤):請輸入身高(公分):60 公斤\n",
      "160 公分\n",
      "您的BMI是: 23.437499999999996 您的體重 正常\n"
     ]
    }
   ],
   "source": [
    "import pyinputplus as pyip\n",
    "\n",
    "weight = pyip.inputInt(\"請輸入體重(公斤):\",min=0)\n",
    "height = pyip.inputInt(\"請輸入身高(公分):\",min=0)\n",
    "\n",
    "print(weight,\"公斤\",end=\"\\n\")\n",
    "print(height,\"公分\")\n",
    "\n",
    "bmi = weight / (height/100)**2\n",
    "\n",
    "if bmi <18.5 :\n",
    "    message = \"太輕\"\n",
    "elif bmi <25:\n",
    "    message = \"正常\"\n",
    "elif bmi <30:\n",
    "    message = \"過重\"\n",
    "else :\n",
    "    message = \"肥胖\"\n",
    "\n",
    "print(\"您的BMI是:\",bmi,\"您的體重\",message)\n",
    "\n",
    "\n",
    "\n",
    "\n",
    "\n",
    "\n"
   ]
  }
 ],
 "metadata": {
  "kernelspec": {
   "display_name": ".venv",
   "language": "python",
   "name": "python3"
  },
  "language_info": {
   "codemirror_mode": {
    "name": "ipython",
    "version": 3
   },
   "file_extension": ".py",
   "mimetype": "text/x-python",
   "name": "python",
   "nbconvert_exporter": "python",
   "pygments_lexer": "ipython3",
   "version": "3.10.8"
  },
  "orig_nbformat": 4
 },
 "nbformat": 4,
 "nbformat_minor": 2
}
