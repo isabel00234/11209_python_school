{
 "cells": [
  {
   "cell_type": "code",
   "execution_count": 12,
   "metadata": {},
   "outputs": [
    {
     "name": "stdout",
     "output_type": "stream",
     "text": [
      "15 的因數: 1 3 5 15 "
     ]
    }
   ],
   "source": [
    "#求所有因數\n",
    "num = int(input(\"請輸入整數，求所有因數:\"))\n",
    "print (num,\"的因數:\",end=\" \")\n",
    "for  i in range(1,num+1,1) :\n",
    "    if num % i == 0 :\n",
    "        print (i, end=\" \")\n"
   ]
  },
  {
   "cell_type": "code",
   "execution_count": 3,
   "metadata": {},
   "outputs": [
    {
     "name": "stdout",
     "output_type": "stream",
     "text": [
      "請輸入2數,求2數公因數: 25 5 公因數: 1 5 "
     ]
    }
   ],
   "source": [
    "#求公因數\n",
    "print(\"請輸入2數,求2數公因數:\",end=\" \")\n",
    "n = int(input('請輸入第1個數:'))\n",
    "m = int(input('請輸入第2個數:'))\n",
    "print(n,m,\"公因數:\",end=\" \")\n",
    "\n",
    "for i in range(1,min(n,m)+1):\n",
    "    if (n % i == 0 ) and (m % i == 0) :\n",
    "        print(i,end=\" \")\n"
   ]
  },
  {
   "cell_type": "code",
   "execution_count": 30,
   "metadata": {},
   "outputs": [
    {
     "name": "stdout",
     "output_type": "stream",
     "text": [
      "15到23的質數是: 15 17 17 17 17 17 17 17 17 17 17 17 17 17 17 17 19 19 19 19 19 19 19 19 19 19 19 19 19 19 19 19 19 21 23 23 23 23 23 23 23 23 23 23 23 23 23 23 23 23 23 23 23 23 23 "
     ]
    }
   ],
   "source": [
    "#2~100,每一個的質數\n",
    "start = int(input(\"請輸入star值:\"))\n",
    "end = int(input(\"請輸入end值:\"))\n",
    "print(f\"{start}到{end}的質數是:\",end=\" \")\n",
    "\n",
    "for i in range(start,end+1):\n",
    "    for  j in range(2,i):\n",
    "        if  i % j  == 0:\n",
    "            break\n",
    "        else :\n",
    "            print(i,end=\" \")\n",
    "    "
   ]
  }
 ],
 "metadata": {
  "kernelspec": {
   "display_name": ".venv",
   "language": "python",
   "name": "python3"
  },
  "language_info": {
   "codemirror_mode": {
    "name": "ipython",
    "version": 3
   },
   "file_extension": ".py",
   "mimetype": "text/x-python",
   "name": "python",
   "nbconvert_exporter": "python",
   "pygments_lexer": "ipython3",
   "version": "3.10.8"
  },
  "orig_nbformat": 4
 },
 "nbformat": 4,
 "nbformat_minor": 2
}
