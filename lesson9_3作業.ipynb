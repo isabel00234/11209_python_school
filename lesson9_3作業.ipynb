{
 "cells": [
  {
   "cell_type": "code",
   "execution_count": 12,
   "metadata": {},
   "outputs": [
    {
     "name": "stdout",
     "output_type": "stream",
     "text": [
      "===============猜數字遊戲(1~100)=================:\n",
      "\n"
     ]
    },
    {
     "name": "stdout",
     "output_type": "stream",
     "text": [
      "猜數字範圍1~67，您已經猜了1次 再小一點\n",
      "猜數字範圍1~45，您已經猜了2次 再小一點\n",
      "猜數字範圍23~45，您已經猜了3次 再大一點\n",
      "猜數字範圍23~37，您已經猜了4次 再小一點\n",
      "您猜中了,答案是28,您共猜了5次\n"
     ]
    }
   ],
   "source": [
    "#- 猜中要告知猜了幾次\n",
    "#- 沒猜中要有提醒\n",
    "#import random\n",
    "#min = 1\n",
    "#max = 100\n",
    "#count = 0\n",
    "#target = random.randint(min, max)\n",
    "#print(\"===============猜數字遊戲=================:\\n\")\n",
    "#while(True):\n",
    "#   keyin = input(f\"猜數字範圍{min}~{max}\")\n",
    "#例如:\n",
    "\n",
    "#要猜的數值是:34\n",
    "\n",
    "#猜數字範圍1~100:50\n",
    "#提示:\n",
    "#再小一點\n",
    "#您已經猜了1次\n",
    "\n",
    "#猜數字範圍1~49:10\n",
    "#提示:\n",
    "#再大一點\n",
    "#您已經猜了2次\n",
    "#猜數字範圍11~49:34\n",
    "\n",
    "#您猜中了,答案是34\n",
    "#您總共猜了3次\n",
    "\n",
    "\n",
    "import random\n",
    "min = 1\n",
    "max = 100\n",
    "count = 0\n",
    "\n",
    "target = random.randint(min, max)\n",
    "#print (target)\n",
    "print(\"===============猜數字遊戲(1~100)=================:\\n\")\n",
    "while(True):\n",
    "   try :\n",
    "      keyin = int(input(f\"猜數字範圍{min}~{max}\"))\n",
    "      count += 1\n",
    "   except :\n",
    "      print(\"輸人格式錯誤,請重新輸入\")\n",
    "   else:\n",
    "      if keyin < target:\n",
    "         min = keyin\n",
    "         print(f\"猜數字範圍{min}~{max}，您已經猜了{count}次\",\"再大一點\")\n",
    "      elif keyin > target :\n",
    "         max = keyin\n",
    "         print(f\"猜數字範圍{min}~{max}，您已經猜了{count}次\",\"再小一點\")\n",
    "      else :\n",
    "         print(f\"您猜中了,答案是{keyin},您共猜了{count}次\")\n",
    "         break\n",
    "      \n",
    "   \n",
    "\n",
    "\n"
   ]
  }
 ],
 "metadata": {
  "kernelspec": {
   "display_name": ".venv",
   "language": "python",
   "name": "python3"
  },
  "language_info": {
   "codemirror_mode": {
    "name": "ipython",
    "version": 3
   },
   "file_extension": ".py",
   "mimetype": "text/x-python",
   "name": "python",
   "nbconvert_exporter": "python",
   "pygments_lexer": "ipython3",
   "version": "3.10.8"
  },
  "orig_nbformat": 4
 },
 "nbformat": 4,
 "nbformat_minor": 2
}
